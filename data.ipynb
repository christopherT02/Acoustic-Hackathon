{
 "cells": [
  {
   "cell_type": "code",
   "execution_count": 1,
   "metadata": {},
   "outputs": [],
   "source": [
    "import os\n",
    "\n",
    "import pandas as pd\n",
    "import s3fs\n",
    "import zipfile\n",
    "import numpy as np"
   ]
  },
  {
   "cell_type": "markdown",
   "metadata": {},
   "source": [
    "## Download Dataset"
   ]
  },
  {
   "cell_type": "code",
   "execution_count": 2,
   "metadata": {},
   "outputs": [],
   "source": [
    "# Create filesystem object\n",
    "S3_ENDPOINT_URL = \"https://\" + os.environ[\"AWS_S3_ENDPOINT\"]\n",
    "fs = s3fs.S3FileSystem(client_kwargs={'endpoint_url': S3_ENDPOINT_URL})"
   ]
  },
  {
   "cell_type": "code",
   "execution_count": 3,
   "metadata": {},
   "outputs": [
    {
     "data": {
      "text/plain": [
       "['gvimont/diffusion/hackathon-minarm-2024/AIVSAI',\n",
       " 'gvimont/diffusion/hackathon-minarm-2024/Acoustique',\n",
       " 'gvimont/diffusion/hackathon-minarm-2024/Similarité']"
      ]
     },
     "execution_count": 3,
     "metadata": {},
     "output_type": "execute_result"
    }
   ],
   "source": [
    "# Lister les challenges\n",
    "fs.ls(\"gvimont/diffusion/hackathon-minarm-2024\")"
   ]
  },
  {
   "cell_type": "code",
   "execution_count": 4,
   "metadata": {},
   "outputs": [
    {
     "data": {
      "text/plain": [
       "['gvimont/diffusion/hackathon-minarm-2024/Acoustique/LivingRoom_preprocessed_hack.zip']"
      ]
     },
     "execution_count": 4,
     "metadata": {},
     "output_type": "execute_result"
    }
   ],
   "source": [
    "# Lister les fichiers d'un challenge\n",
    "fs.ls(\"gvimont/diffusion/hackathon-minarm-2024/Acoustique\")"
   ]
  },
  {
   "cell_type": "code",
   "execution_count": 5,
   "metadata": {},
   "outputs": [
    {
     "data": {
      "text/plain": [
       "[None]"
      ]
     },
     "execution_count": 5,
     "metadata": {},
     "output_type": "execute_result"
    }
   ],
   "source": [
    "# Télécharger les données dans le service\n",
    "PATH_IN = 'gvimont/diffusion/hackathon-minarm-2024/Acoustique/LivingRoom_preprocessed_hack.zip'\n",
    "fs.download(PATH_IN, 'data/LivingRoom_preprocessed_hack.zip')"
   ]
  },
  {
   "cell_type": "code",
   "execution_count": 6,
   "metadata": {},
   "outputs": [],
   "source": [
    "# Décompresser les données\n",
    "with zipfile.ZipFile(\"data/LivingRoom_preprocessed_hack.zip\",\"r\") as zip_file:\n",
    "    zip_file.extractall(\"data/\")"
   ]
  },
  {
   "cell_type": "code",
   "execution_count": 24,
   "metadata": {},
   "outputs": [
    {
     "data": {
      "text/plain": [
       "(1000, 2)"
      ]
     },
     "execution_count": 24,
     "metadata": {},
     "output_type": "execute_result"
    }
   ],
   "source": [
    "data = np.load(\"data/LivingRoom_preprocessed_hack/Human1/centroid.npy\")\n",
    "data.shape"
   ]
  },
  {
   "cell_type": "code",
   "execution_count": 19,
   "metadata": {},
   "outputs": [
    {
     "name": "stdout",
     "output_type": "stream",
     "text": [
      "[[-3231.3293467  -1127.87771457]\n",
      " [-3198.54107875  -744.5100656 ]\n",
      " [-3192.9776274   -248.26678827]\n",
      " ...\n",
      " [-1717.89923578 -3166.59648491]\n",
      " [-1808.60337549 -2779.13038427]\n",
      " [   44.43741322   106.48353609]]\n"
     ]
    }
   ],
   "source": [
    "data_folder = \"data/LivingRoom_preprocessed_hack/Human1\"\n",
    "\n",
    "# List of files to load\n",
    "files_to_load = [\n",
    "    \"centroid.npy\",\n",
    "    \"deconvoled_trim.npy\"\n",
    "    \"skeletons.npy\"\n",
    "]\n",
    "\n",
    "centroid = np.load(os.path.join(data_folder, \"centroid.npy\"))\n",
    "deconvoled_trim = np.load(os.path.join(data_folder, \"deconvoled_trim.npy\"))\n",
    "skeletons = np.load(os.path.join(data_folder, \"skeletons.npy\"))\n",
    "print(centroid)"
   ]
  },
  {
   "cell_type": "code",
   "execution_count": 21,
   "metadata": {},
   "outputs": [
    {
     "data": {
      "text/html": [
       "<div>\n",
       "<style scoped>\n",
       "    .dataframe tbody tr th:only-of-type {\n",
       "        vertical-align: middle;\n",
       "    }\n",
       "\n",
       "    .dataframe tbody tr th {\n",
       "        vertical-align: top;\n",
       "    }\n",
       "\n",
       "    .dataframe thead th {\n",
       "        text-align: right;\n",
       "    }\n",
       "</style>\n",
       "<table border=\"1\" class=\"dataframe\">\n",
       "  <thead>\n",
       "    <tr style=\"text-align: right;\">\n",
       "      <th></th>\n",
       "      <th>x_pos</th>\n",
       "      <th>y_pos</th>\n",
       "    </tr>\n",
       "  </thead>\n",
       "  <tbody>\n",
       "    <tr>\n",
       "      <th>0</th>\n",
       "      <td>-3231.329347</td>\n",
       "      <td>-1127.877715</td>\n",
       "    </tr>\n",
       "    <tr>\n",
       "      <th>1</th>\n",
       "      <td>-3198.541079</td>\n",
       "      <td>-744.510066</td>\n",
       "    </tr>\n",
       "    <tr>\n",
       "      <th>2</th>\n",
       "      <td>-3192.977627</td>\n",
       "      <td>-248.266788</td>\n",
       "    </tr>\n",
       "    <tr>\n",
       "      <th>3</th>\n",
       "      <td>-3018.418253</td>\n",
       "      <td>334.938546</td>\n",
       "    </tr>\n",
       "    <tr>\n",
       "      <th>4</th>\n",
       "      <td>-3015.779532</td>\n",
       "      <td>826.440201</td>\n",
       "    </tr>\n",
       "    <tr>\n",
       "      <th>...</th>\n",
       "      <td>...</td>\n",
       "      <td>...</td>\n",
       "    </tr>\n",
       "    <tr>\n",
       "      <th>995</th>\n",
       "      <td>-2232.655302</td>\n",
       "      <td>-3227.790684</td>\n",
       "    </tr>\n",
       "    <tr>\n",
       "      <th>996</th>\n",
       "      <td>-2230.893046</td>\n",
       "      <td>-2974.853017</td>\n",
       "    </tr>\n",
       "    <tr>\n",
       "      <th>997</th>\n",
       "      <td>-1717.899236</td>\n",
       "      <td>-3166.596485</td>\n",
       "    </tr>\n",
       "    <tr>\n",
       "      <th>998</th>\n",
       "      <td>-1808.603375</td>\n",
       "      <td>-2779.130384</td>\n",
       "    </tr>\n",
       "    <tr>\n",
       "      <th>999</th>\n",
       "      <td>44.437413</td>\n",
       "      <td>106.483536</td>\n",
       "    </tr>\n",
       "  </tbody>\n",
       "</table>\n",
       "<p>1000 rows × 2 columns</p>\n",
       "</div>"
      ],
      "text/plain": [
       "           x_pos        y_pos\n",
       "0   -3231.329347 -1127.877715\n",
       "1   -3198.541079  -744.510066\n",
       "2   -3192.977627  -248.266788\n",
       "3   -3018.418253   334.938546\n",
       "4   -3015.779532   826.440201\n",
       "..           ...          ...\n",
       "995 -2232.655302 -3227.790684\n",
       "996 -2230.893046 -2974.853017\n",
       "997 -1717.899236 -3166.596485\n",
       "998 -1808.603375 -2779.130384\n",
       "999    44.437413   106.483536\n",
       "\n",
       "[1000 rows x 2 columns]"
      ]
     },
     "execution_count": 21,
     "metadata": {},
     "output_type": "execute_result"
    }
   ],
   "source": [
    "df_centroid = pd.DataFrame(centroid, columns=['x_pos', 'y_pos'])\n",
    "df_centroid"
   ]
  },
  {
   "cell_type": "code",
   "execution_count": 35,
   "metadata": {},
   "outputs": [
    {
     "data": {
      "image/png": "[encoded data removed]",
      "text/plain": [
       "<Figure size 1200x600 with 1 Axes>"
      ]
     },
     "metadata": {},
     "output_type": "display_data"
    }
   ],
   "source": [
    "import numpy as np\n",
    "import matplotlib.pyplot as plt\n",
    "\n",
    "# Assuming deconvoled_trim is already loaded and has shape [N_datapoints, N_Microphones, N_samples]\n",
    "N_datapoints, N_Microphones, N_samples = deconvoled_trim.shape\n",
    "\n",
    "# Choose a specific datapoint and time sample range to plot\n",
    "datapoint_index = 1  # Choose the datapoint index\n",
    "time_sample_start = 0  # Start index of time samples\n",
    "time_sample_end = N_samples  # End index of time samples (or choose a specific range)\n",
    "\n",
    "# Create a time axis for plotting (assuming sampling rate of the RIRs is known)\n",
    "sampling_rate = 44100  # Example sampling rate (adjust based on your data)\n",
    "time_axis = np.arange(time_sample_end - time_sample_start) / sampling_rate\n",
    "\n",
    "# Plot the RIRs for each microphone channel\n",
    "plt.figure(figsize=(12, 6))\n",
    "for microphone_index in range(N_Microphones):\n",
    "    # Extract the RIR for the current microphone channel\n",
    "    rir = deconvoled_trim[datapoint_index, microphone_index, time_sample_start:time_sample_end]\n",
    "    \n",
    "    # Plot the RIR on the same figure with different colors for each microphone\n",
    "    plt.plot(time_axis, rir, label=f\"Microphone {microphone_index + 1}\")\n",
    "\n",
    "plt.title(f\"Room Impulse Responses (Datapoint {datapoint_index})\")\n",
    "plt.xlabel(\"Time (seconds)\")\n",
    "plt.ylabel(\"Amplitude\")\n",
    "plt.grid(True)\n",
    "plt.legend()\n",
    "plt.show()\n"
   ]
  },
  {
   "cell_type": "code",
   "execution_count": null,
   "metadata": {},
   "outputs": [],
   "source": []
  }
 ],
 "metadata": {
  "kernelspec": {
   "display_name": "base",
   "language": "python",
   "name": "python3"
  },
  "language_info": {
   "codemirror_mode": {
    "name": "ipython",
    "version": 3
   },
   "file_extension": ".py",
   "mimetype": "text/x-python",
   "name": "python",
   "nbconvert_exporter": "python",
   "pygments_lexer": "ipython3",
   "version": "3.11.6"
  }
 },
 "nbformat": 4,
 "nbformat_minor": 2
}
