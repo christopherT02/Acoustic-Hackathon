{
 "cells": [
  {
   "cell_type": "code",
   "execution_count": 1,
   "id": "cd00315a-8511-4dab-aab4-5338f6bc67c9",
   "metadata": {},
   "outputs": [],
   "source": [
    "%%capture\n",
    "!pip install librosa\n",
    "!pip install torch"
   ]
  },
  {
   "cell_type": "code",
   "execution_count": 2,
   "id": "0d3d3e58-f1ee-498e-adba-c58dc4d3d981",
   "metadata": {},
   "outputs": [],
   "source": [
    "import os\n",
    "import pandas as pd\n",
    "import s3fs\n",
    "import zipfile\n",
    "import torch\n",
    "from torch.utils.data import Dataset\n",
    "import numpy as np\n",
    "import matplotlib.pyplot as plt\n",
    "import librosa\n",
    "from scipy import signal\n",
    "from tqdm import tqdm\n",
    "import numpy as np\n",
    "from sklearn.decomposition import PCA\n",
    "from sklearn.model_selection import train_test_split\n",
    "from sklearn.metrics import mean_squared_error,mean_absolute_error\n",
    "from sklearn.model_selection import GridSearchCV\n",
    "from sklearn.neighbors import KNeighborsRegressor\n",
    "from torch.utils.data import DataLoader\n",
    "from sklearn.ensemble import RandomForestRegressor\n",
    "from Misc import Misc\n",
    "from CustomDataset import CustomDataset\n",
    "from EuclideanDistanceLoss import EuclideanDistanceLoss"
   ]
  },
  {
   "cell_type": "code",
   "execution_count": 3,
   "id": "6a2c0528-0c01-49df-afd1-13063dd25d0c",
   "metadata": {},
   "outputs": [],
   "source": [
    "DATASET_PATH = \"../data/LivingRoom_preprocessed_hack\"\n",
    "# Dimensions of the living room\n",
    "X_MIN = -4000\n",
    "X_MAX = 500\n",
    "Y_MIN = -4000\n",
    "Y_MAX = 2000\n",
    "MISC = Misc(start_time=0, end_time=50000, sr=44100, target_sr=16000)\n",
    "EUCLIDEAN_LOSS = EuclideanDistanceLoss()"
   ]
  },
  {
   "cell_type": "markdown",
   "id": "e5732ff9-2b96-4586-8bed-d864206230ce",
   "metadata": {},
   "source": [
    "## Read Data"
   ]
  },
  {
   "cell_type": "code",
   "execution_count": null,
   "id": "9d52680f-4e65-4644-9b2c-253464bfb5cf",
   "metadata": {},
   "outputs": [],
   "source": [
    "centroids_h1 = np.load(DATASET_PATH + \"/Human1/centroid.npy\")\n",
    "centroids_h2 = np.load(DATASET_PATH + \"/Human2/centroid.npy\")\n",
    "deconvoled_trim_h1 = np.load(DATASET_PATH + \"/Human1/deconvoled_trim.npy\")\n",
    "deconvoled_trim_h2 = np.load(DATASET_PATH + \"/Human2/deconvoled_trim.npy\")"
   ]
  },
  {
   "cell_type": "code",
   "execution_count": null,
   "id": "b251cbcf-b9fa-4ec9-8395-63e2eb431c8c",
   "metadata": {},
   "outputs": [],
   "source": [
    "print(\"Deconvoled Trim Human 1 Shape: \", deconvoled_trim_h1.shape)\n",
    "print(\"Deconvoled Trim Human 2 Shape: \", deconvoled_trim_h2.shape)\n",
    "print(\"Centroids Huma 1 Shape: \", centroids_h1.shape)\n",
    "print(\"Centroids Human 2 Shape: \", centroids_h2.shape)"
   ]
  },
  {
   "cell_type": "markdown",
   "id": "1a9aba60-dba1-4f61-9308-e2490d8701a8",
   "metadata": {},
   "source": [
    "## Preprocessing"
   ]
  },
  {
   "cell_type": "code",
   "execution_count": null,
   "id": "e626fb9f-eaa3-4451-abde-b9aaa1bda2d8",
   "metadata": {},
   "outputs": [],
   "source": [
    "preprocessed_data_mfcc_h1, preprocessed_data_rms_h1, preprocessed_data_zcr_h1 = MISC.preprocess_knn(deconvoled_trim=deconvoled_trim_h1)\n",
    "preprocessed_data_mfcc_h2, preprocessed_data_rms_h2, preprocessed_data_zcr_h2 = MISC.preprocess_knn(deconvoled_trim=deconvoled_trim_h2)"
   ]
  },
  {
   "cell_type": "code",
   "execution_count": null,
   "id": "f49330d5-333d-45ff-b7f3-6c1a12ae080a",
   "metadata": {},
   "outputs": [],
   "source": [
    "print(\"Preprocessed RMS Human 1 data: \", preprocessed_data_rms_h1.shape)\n",
    "print(\"Preprocessed Zero-Crossing Rate Human 1 data: \", preprocessed_data_zcr_h1.shape)\n",
    "print(\"Preprocessed MFCC Human 1 data: \", preprocessed_data_mfcc_h1.shape)\n",
    "print(\"Preprocessed RMS Human 2 data: \", preprocessed_data_rms_h2.shape)\n",
    "print(\"Preprocessed Zero-Crossing Rate Human 2 data: \", preprocessed_data_zcr_h2.shape)\n",
    "print(\"Preprocessed MFCC Human 2 data: \", preprocessed_data_mfcc_h2.shape)"
   ]
  },
  {
   "cell_type": "code",
   "execution_count": null,
   "id": "e1115e11-1781-4b60-9727-534ebb3fa686",
   "metadata": {},
   "outputs": [],
   "source": [
    "# Plot audio features for each instance and channel\n",
    "for instance_index in range(preprocessed_data_mfcc_h2.shape[0]):\n",
    "    for channel_index in range(preprocessed_data_mfcc_h2.shape[1]):\n",
    "        mfcc_features = preprocessed_data_mfcc_h2[instance_index, channel_index]\n",
    "        MISC.plot_audio_features(instance_index=instance_index, chan_index=channel_index, mfcc=mfcc_features)\n",
    "    break\n",
    "\n",
    "# Plot audio features for each instance and channel\n",
    "for instance_index in range(preprocessed_data_zcr_h2.shape[0]):\n",
    "    for channel_index in range(preprocessed_data_zcr_h2.shape[1]):\n",
    "        zero_crossing_rate = preprocessed_data_zcr_h2[instance_index, channel_index] \n",
    "        MISC.plot_audio_features(instance_index=instance_index, chan_index=channel_index, zcr=zero_crossing_rate)\n",
    "    break"
   ]
  },
  {
   "cell_type": "markdown",
   "id": "5b38576e-7550-4305-bd18-3165c9d62144",
   "metadata": {},
   "source": [
    "## Dataset"
   ]
  },
  {
   "cell_type": "code",
   "execution_count": null,
   "id": "fb73b080-5f91-4667-bccb-3dd39868e93b",
   "metadata": {},
   "outputs": [],
   "source": [
    "dataset_h1 = CustomDataset(preprocessed_data_rms=preprocessed_data_rms_h1, coordinates=centroids_h1)\n",
    "dataset_h2 = CustomDataset(preprocessed_data_rms=preprocessed_data_rms_h2, coordinates=centroids_h2)\n",
    "\n",
    "# Access a sample from the dataset\n",
    "features_list, coordinates = dataset_h1[1]\n",
    "print(\"Features List Length:\", len(features_list))\n",
    "print(\"Features Shape (Microphone 1):\", features_list[0])\n",
    "print(\"Features Shape (Microphone 2):\", features_list[1])\n",
    "print(\"Features Shape (Microphone 3):\", features_list[2])\n",
    "print(\"Features Shape (Microphone 4):\", features_list[3])\n",
    "print(\"Coordinates:\", coordinates)"
   ]
  },
  {
   "cell_type": "markdown",
   "id": "aaf39de3-dd37-4820-81bb-b52f6676ade9",
   "metadata": {},
   "source": [
    "## Random Forest Model Training"
   ]
  },
  {
   "cell_type": "code",
   "execution_count": null,
   "id": "4706812a-05b2-47da-ba9b-155d698870ce",
   "metadata": {},
   "outputs": [],
   "source": [
    "criterion = EUCLIDEAN_LOSS\n",
    "\n",
    "def custom_scoring(self, estimator, X, y):\n",
    "        pred_coords = estimator.predict(X)\n",
    "        ed = np.mean([criterion(torch.tensor(p), torch.tensor(t)) for p, t in zip(pred_coords, y)])\n",
    "        return -ed"
   ]
  },
  {
   "cell_type": "code",
   "execution_count": null,
   "id": "56144e01-eb31-40f2-9569-2ffa6a2e578e",
   "metadata": {},
   "outputs": [],
   "source": [
    "rf_regressor = RandomForestRegressor(random_state=42)\n",
    "\n",
    "param_grid = {\n",
    "    'n_estimators': [100, 200, 500],\n",
    "    'max_depth': [5, 10, 15]\n",
    "}\n",
    "\n",
    "grid_search = GridSearchCV(rf_regressor, param_grid, cv=5, scoring=custom_scoring) \n",
    "grid_search.fit(dataset_h1.preprocessed_data_rms, dataset_h1.coordinates)\n",
    "\n",
    "print(\"Best Parameters:\", grid_search.best_params_)\n",
    "print(\"GridSearchCV Best Scoring:\", -grid_search.best_score_)  # Negate for readability"
   ]
  },
  {
   "cell_type": "code",
   "execution_count": null,
   "id": "95b3df4f-234b-475e-a3e9-78f1f3df3e27",
   "metadata": {},
   "outputs": [],
   "source": [
    "rf_model = RandomForestRegressor(random_state=42, n_estimators=grid_search.best_params_['n_estimators'], max_depth=grid_search.best_params_['max_depth'])\n",
    "rf_model.fit(dataset_h1.preprocessed_data_rms, dataset_h1.coordinates)\n",
    "\n",
    "predicted_coordinates = rf_model.predict(dataset_h2.preprocessed_data_rms)\n",
    "\n",
    "mse = mean_squared_error(centroids_h2, predicted_coordinates)\n",
    "print(\"Mean Squared Error:\", mse)\n",
    "\n",
    "mae = mean_absolute_error(centroids_h2, predicted_coordinates)\n",
    "print(\"Mean Absolute Error:\", mae)\n",
    "\n",
    "# Calculate localization errors for each prediction\n",
    "errors = []\n",
    "for pred_coords, true_coords in zip(predicted_coordinates, dataset_h2.coordinates):\n",
    "    error = euclidean_distance(pred_coords, true_coords)\n",
    "    errors.append(error)\n",
    "\n",
    "errors = np.array(errors)\n",
    "mean_error = np.mean(errors)\n",
    "stdev_error = np.std(errors)\n",
    "\n",
    "print(\"Localization Error: {:.2f} ({:.2f})\".format(mean_error, stdev_error))\n",
    "print(\"Score: \", rf_model.score(dataset_h2.preprocessed_data_rms, dataset_h2.coordinates))"
   ]
  },
  {
   "cell_type": "code",
   "execution_count": null,
   "id": "52c83e67-0266-43c1-8e33-e5ce0ca556a8",
   "metadata": {},
   "outputs": [],
   "source": [
    "# Concatenate all true and predicted coordinates from all data points\n",
    "all_true_coords = dataset_h2.coordinates.reshape(-1, 2)\n",
    "all_pred_coords = predicted_coordinates.reshape(-1, 2)\n",
    "\n",
    "# Plot all true and predicted coordinates on a single graph\n",
    "plt.figure(figsize=(8, 6))\n",
    "plt.scatter(all_true_coords[:, 0], all_true_coords[:, 1], color='blue', label='True Coordinates')\n",
    "#plt.scatter(all_pred_coords[:, 0], all_pred_coords[:, 1], color='red', label='Predicted Coordinates')\n",
    "\n",
    "plt.xlabel('X')\n",
    "plt.ylabel('Y')\n",
    "plt.title('True vs Predicted Coordinates')\n",
    "plt.legend()\n",
    "plt.grid(True)\n",
    "plt.show()"
   ]
  },
  {
   "cell_type": "code",
   "execution_count": null,
   "id": "7839dd2f-7d36-4177-a8e2-00b30be4108d",
   "metadata": {},
   "outputs": [],
   "source": [
    "# Concatenate all true and predicted coordinates from all data points\n",
    "all_true_coords = dataset_h2.coordinates.reshape(-1, 2)\n",
    "all_pred_coords = predicted_coordinates.reshape(-1, 2)\n",
    "\n",
    "# Plot all true and predicted coordinates on a single graph\n",
    "plt.figure(figsize=(8, 6))\n",
    "#plt.scatter(all_true_coords[:, 0], all_true_coords[:, 1], color='blue', label='True Coordinates')\n",
    "plt.scatter(all_pred_coords[:, 0], all_pred_coords[:, 1], color='red', label='Predicted Coordinates')\n",
    "\n",
    "plt.xlabel('X')\n",
    "plt.ylabel('Y')\n",
    "plt.title('True vs Predicted Coordinates')\n",
    "plt.legend()\n",
    "plt.grid(True)\n",
    "plt.show()"
   ]
  },
  {
   "cell_type": "markdown",
   "id": "85c3394c-f6b8-4d10-977c-b98892b23f2f",
   "metadata": {},
   "source": [
    "## Zero-Crossing Rate"
   ]
  },
  {
   "cell_type": "code",
   "execution_count": null,
   "id": "aec37f9c-926f-4a0c-8a45-749825eed56b",
   "metadata": {},
   "outputs": [],
   "source": [
    "dataset_h1 = CustomDataset(preprocessed_data_zcr=preprocessed_data_zcr_h1, _type=\"zcr\", coordinates=centroids_h1)\n",
    "dataset_h2 = CustomDataset(preprocessed_data_zcr=preprocessed_data_zcr_h2, _type=\"zcr\", coordinates=centroids_h2)\n",
    "\n",
    "rms_features = np.sqrt(np.mean(dataset_h1.preprocessed_data_zcr**2, axis=-1))\n",
    "X_train = rms_features.reshape(1000, 4)\n",
    "y_train = dataset_h1.coordinates\n",
    "rms_features = np.sqrt(np.mean(dataset_h2.preprocessed_data_zcr**2, axis=-1))\n",
    "X_test = rms_features.reshape(104, 4)\n",
    "y_test = dataset_h2.coordinates\n",
    "\n",
    "rf_regressor = RandomForestRegressor(random_state=42)\n",
    "\n",
    "param_grid = {\n",
    "    'n_estimators': [100, 200, 500],\n",
    "    'max_depth': [5, 10, 15]\n",
    "}\n",
    "\n",
    "grid_search = GridSearchCV(rf_regressor, param_grid, cv=5, scoring=custom_scoring) \n",
    "grid_search.fit(X_train, y_train)\n",
    "\n",
    "rf_model = RandomForestRegressor(random_state=42, n_estimators=500, max_depth=30)\n",
    "rf_model.fit(X_train, y_train)\n",
    "\n",
    "predicted_coords = rf_model.predict(X_test)\n",
    "\n",
    "mse = mean_squared_error(y_test, predicted_coords)\n",
    "print(\"Mean Squared Error:\", mse)\n",
    "\n",
    "mae = mean_absolute_error(y_test, predicted_coords)\n",
    "print(\"Mean Absolute Error:\", mae)\n",
    "\n",
    "# Calculate localization errors for each prediction\n",
    "errors = []\n",
    "for pred_coords, true_coords in zip(predicted_coords, y_test):\n",
    "    error = euclidean_distance(pred_coords, true_coords)\n",
    "    errors.append(error)\n",
    "\n",
    "errors = np.array(errors)\n",
    "mean_error = np.mean(errors)\n",
    "stdev_error = np.std(errors)\n",
    "\n",
    "print(\"Localization Error: {:.2f} ({:.2f})\".format(mean_error, stdev_error))\n",
    "print(\"Score: \", rf_model.score(X_test, y_test))"
   ]
  },
  {
   "cell_type": "code",
   "execution_count": null,
   "id": "af0d1485-de84-44b6-a6f2-23ce53a23a68",
   "metadata": {},
   "outputs": [],
   "source": []
  }
 ],
 "metadata": {
  "kernelspec": {
   "display_name": "Python 3 (ipykernel)",
   "language": "python",
   "name": "python3"
  },
  "language_info": {
   "codemirror_mode": {
    "name": "ipython",
    "version": 3
   },
   "file_extension": ".py",
   "mimetype": "text/x-python",
   "name": "python",
   "nbconvert_exporter": "python",
   "pygments_lexer": "ipython3",
   "version": "3.11.6"
  }
 },
 "nbformat": 4,
 "nbformat_minor": 5
}
