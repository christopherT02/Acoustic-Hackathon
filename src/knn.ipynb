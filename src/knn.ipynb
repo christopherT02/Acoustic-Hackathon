{
 "cells": [
  {
   "cell_type": "markdown",
   "metadata": {},
   "source": [
    "## Download and Import Lib"
   ]
  },
  {
   "cell_type": "code",
   "execution_count": 1,
   "metadata": {},
   "outputs": [
    {
     "name": "stdout",
     "output_type": "stream",
     "text": [
      "Requirement already satisfied: librosa in /opt/mamba/lib/python3.11/site-packages (0.10.1)\n",
      "Requirement already satisfied: audioread>=2.1.9 in /opt/mamba/lib/python3.11/site-packages (from librosa) (3.0.1)\n",
      "Requirement already satisfied: numpy!=1.22.0,!=1.22.1,!=1.22.2,>=1.20.3 in /opt/mamba/lib/python3.11/site-packages (from librosa) (1.26.4)\n",
      "Requirement already satisfied: scipy>=1.2.0 in /opt/mamba/lib/python3.11/site-packages (from librosa) (1.13.0)\n",
      "Requirement already satisfied: scikit-learn>=0.20.0 in /opt/mamba/lib/python3.11/site-packages (from librosa) (1.4.1.post1)\n",
      "Requirement already satisfied: joblib>=0.14 in /opt/mamba/lib/python3.11/site-packages (from librosa) (1.3.2)\n",
      "Requirement already satisfied: decorator>=4.3.0 in /opt/mamba/lib/python3.11/site-packages (from librosa) (5.1.1)\n",
      "Requirement already satisfied: numba>=0.51.0 in /opt/mamba/lib/python3.11/site-packages (from librosa) (0.59.1)\n",
      "Requirement already satisfied: soundfile>=0.12.1 in /opt/mamba/lib/python3.11/site-packages (from librosa) (0.12.1)\n",
      "Requirement already satisfied: pooch>=1.0 in /opt/mamba/lib/python3.11/site-packages (from librosa) (1.8.1)\n",
      "Requirement already satisfied: soxr>=0.3.2 in /opt/mamba/lib/python3.11/site-packages (from librosa) (0.3.7)\n",
      "Requirement already satisfied: typing-extensions>=4.1.1 in /opt/mamba/lib/python3.11/site-packages (from librosa) (4.11.0)\n",
      "Requirement already satisfied: lazy-loader>=0.1 in /opt/mamba/lib/python3.11/site-packages (from librosa) (0.4)\n",
      "Requirement already satisfied: msgpack>=1.0 in /opt/mamba/lib/python3.11/site-packages (from librosa) (1.0.7)\n",
      "Requirement already satisfied: packaging in /opt/mamba/lib/python3.11/site-packages (from lazy-loader>=0.1->librosa) (23.2)\n",
      "Requirement already satisfied: llvmlite<0.43,>=0.42.0dev0 in /opt/mamba/lib/python3.11/site-packages (from numba>=0.51.0->librosa) (0.42.0)\n",
      "Requirement already satisfied: platformdirs>=2.5.0 in /opt/mamba/lib/python3.11/site-packages (from pooch>=1.0->librosa) (4.2.0)\n",
      "Requirement already satisfied: requests>=2.19.0 in /opt/mamba/lib/python3.11/site-packages (from pooch>=1.0->librosa) (2.31.0)\n",
      "Requirement already satisfied: threadpoolctl>=2.0.0 in /opt/mamba/lib/python3.11/site-packages (from scikit-learn>=0.20.0->librosa) (3.4.0)\n",
      "Requirement already satisfied: cffi>=1.0 in /opt/mamba/lib/python3.11/site-packages (from soundfile>=0.12.1->librosa) (1.16.0)\n",
      "Requirement already satisfied: pycparser in /opt/mamba/lib/python3.11/site-packages (from cffi>=1.0->soundfile>=0.12.1->librosa) (2.21)\n",
      "Requirement already satisfied: charset-normalizer<4,>=2 in /opt/mamba/lib/python3.11/site-packages (from requests>=2.19.0->pooch>=1.0->librosa) (3.3.2)\n",
      "Requirement already satisfied: idna<4,>=2.5 in /opt/mamba/lib/python3.11/site-packages (from requests>=2.19.0->pooch>=1.0->librosa) (3.6)\n",
      "Requirement already satisfied: urllib3<3,>=1.21.1 in /opt/mamba/lib/python3.11/site-packages (from requests>=2.19.0->pooch>=1.0->librosa) (1.26.18)\n",
      "Requirement already satisfied: certifi>=2017.4.17 in /opt/mamba/lib/python3.11/site-packages (from requests>=2.19.0->pooch>=1.0->librosa) (2024.2.2)\n",
      "Requirement already satisfied: torch in /opt/mamba/lib/python3.11/site-packages (2.2.2)\n",
      "Requirement already satisfied: filelock in /opt/mamba/lib/python3.11/site-packages (from torch) (3.13.4)\n",
      "Requirement already satisfied: typing-extensions>=4.8.0 in /opt/mamba/lib/python3.11/site-packages (from torch) (4.11.0)\n",
      "Requirement already satisfied: sympy in /opt/mamba/lib/python3.11/site-packages (from torch) (1.12)\n",
      "Requirement already satisfied: networkx in /opt/mamba/lib/python3.11/site-packages (from torch) (3.3)\n",
      "Requirement already satisfied: jinja2 in /opt/mamba/lib/python3.11/site-packages (from torch) (3.1.3)\n",
      "Requirement already satisfied: fsspec in /opt/mamba/lib/python3.11/site-packages (from torch) (2024.3.1)\n",
      "Requirement already satisfied: nvidia-cuda-nvrtc-cu12==12.1.105 in /opt/mamba/lib/python3.11/site-packages (from torch) (12.1.105)\n",
      "Requirement already satisfied: nvidia-cuda-runtime-cu12==12.1.105 in /opt/mamba/lib/python3.11/site-packages (from torch) (12.1.105)\n",
      "Requirement already satisfied: nvidia-cuda-cupti-cu12==12.1.105 in /opt/mamba/lib/python3.11/site-packages (from torch) (12.1.105)\n",
      "Requirement already satisfied: nvidia-cudnn-cu12==8.9.2.26 in /opt/mamba/lib/python3.11/site-packages (from torch) (8.9.2.26)\n",
      "Requirement already satisfied: nvidia-cublas-cu12==12.1.3.1 in /opt/mamba/lib/python3.11/site-packages (from torch) (12.1.3.1)\n",
      "Requirement already satisfied: nvidia-cufft-cu12==11.0.2.54 in /opt/mamba/lib/python3.11/site-packages (from torch) (11.0.2.54)\n",
      "Requirement already satisfied: nvidia-curand-cu12==10.3.2.106 in /opt/mamba/lib/python3.11/site-packages (from torch) (10.3.2.106)\n",
      "Requirement already satisfied: nvidia-cusolver-cu12==11.4.5.107 in /opt/mamba/lib/python3.11/site-packages (from torch) (11.4.5.107)\n",
      "Requirement already satisfied: nvidia-cusparse-cu12==12.1.0.106 in /opt/mamba/lib/python3.11/site-packages (from torch) (12.1.0.106)\n",
      "Requirement already satisfied: nvidia-nccl-cu12==2.19.3 in /opt/mamba/lib/python3.11/site-packages (from torch) (2.19.3)\n",
      "Requirement already satisfied: nvidia-nvtx-cu12==12.1.105 in /opt/mamba/lib/python3.11/site-packages (from torch) (12.1.105)\n",
      "Requirement already satisfied: triton==2.2.0 in /opt/mamba/lib/python3.11/site-packages (from torch) (2.2.0)\n",
      "Requirement already satisfied: nvidia-nvjitlink-cu12 in /opt/mamba/lib/python3.11/site-packages (from nvidia-cusolver-cu12==11.4.5.107->torch) (12.4.127)\n",
      "Requirement already satisfied: MarkupSafe>=2.0 in /opt/mamba/lib/python3.11/site-packages (from jinja2->torch) (2.1.5)\n",
      "Requirement already satisfied: mpmath>=0.19 in /opt/mamba/lib/python3.11/site-packages (from sympy->torch) (1.3.0)\n"
     ]
    }
   ],
   "source": [
    "!pip install librosa\n",
    "!pip install torch"
   ]
  },
  {
   "cell_type": "code",
   "execution_count": 2,
   "metadata": {},
   "outputs": [],
   "source": [
    "import os\n",
    "import pandas as pd\n",
    "import s3fs\n",
    "import zipfile\n",
    "import torch\n",
    "from torch.utils.data import Dataset\n",
    "import numpy as np\n",
    "import matplotlib.pyplot as plt\n",
    "import librosa\n",
    "from scipy import signal\n",
    "from tqdm import tqdm\n",
    "import numpy as np\n",
    "\n",
    "from sklearn.decomposition import PCA\n",
    "from sklearn.model_selection import train_test_split\n",
    "from sklearn.metrics import mean_squared_error,mean_absolute_error\n",
    "from sklearn.model_selection import GridSearchCV\n",
    "from sklearn.neighbors import KNeighborsRegressor\n",
    "from torch.utils.data import DataLoader"
   ]
  },
  {
   "cell_type": "code",
   "execution_count": 3,
   "metadata": {},
   "outputs": [],
   "source": [
    "DATASET_PATH = \"data/LivingRoom_preprocessed_hack\""
   ]
  },
  {
   "cell_type": "markdown",
   "metadata": {},
   "source": [
    "## Read Data"
   ]
  },
  {
   "cell_type": "code",
   "execution_count": 4,
   "metadata": {},
   "outputs": [],
   "source": [
    "centroids_h1 = np.load(DATASET_PATH + \"/Human1/centroid.npy\")\n",
    "centroids_h2 = np.load(DATASET_PATH + \"/Human2/centroid.npy\")\n",
    "deconvoled_trim_h1 = np.load(DATASET_PATH + \"/Human1/deconvoled_trim.npy\")\n",
    "deconvoled_trim_h2 = np.load(DATASET_PATH + \"/Human2/deconvoled_trim.npy\")"
   ]
  },
  {
   "cell_type": "code",
   "execution_count": 5,
   "metadata": {},
   "outputs": [
    {
     "name": "stdout",
     "output_type": "stream",
     "text": [
      "Deconvoled Trim Human 1 Shape:  (1000, 4, 667200)\n",
      "Deconvoled Trim Human 2 Shape:  (104, 4, 667200)\n",
      "Centroids Huma 1 Shape:  (1000, 2)\n",
      "Centroids Human 2 Shape:  (104, 2)\n",
      "(1000, 2)\n",
      "(104, 2)\n",
      "[[-3231.3293467  -1127.87771457]\n",
      " [-3198.54107875  -744.5100656 ]\n",
      " [-3192.9776274   -248.26678827]\n",
      " ...\n",
      " [-1717.89923578 -3166.59648491]\n",
      " [-1808.60337549 -2779.13038427]\n",
      " [   44.43741322   106.48353609]]\n"
     ]
    }
   ],
   "source": [
    "print(\"Deconvoled Trim Human 1 Shape: \", deconvoled_trim_h1.shape)\n",
    "print(\"Deconvoled Trim Human 2 Shape: \", deconvoled_trim_h2.shape)\n",
    "print(\"Centroids Huma 1 Shape: \", centroids_h1.shape)\n",
    "print(\"Centroids Human 2 Shape: \", centroids_h2.shape)\n",
    "print(centroids_h1.shape)\n",
    "print(centroids_h2.shape)\n",
    "print(centroids_h1)"
   ]
  },
  {
   "cell_type": "markdown",
   "metadata": {},
   "source": [
    "## Preprocess Data - Human 1"
   ]
  },
  {
   "cell_type": "code",
   "execution_count": 8,
   "metadata": {},
   "outputs": [
    {
     "name": "stderr",
     "output_type": "stream",
     "text": [
      "100%|██████████| 1000/1000 [13:09<00:00,  1.27it/s]\n"
     ]
    }
   ],
   "source": [
    "sampling_rate = 44100\n",
    "preprocessed_data_mfcc = []\n",
    "preprocessed_data_rms = []\n",
    "preprocessed_data_zcr = []\n",
    "\n",
    "# Wrap the outer loop with tqdm for progress visualization\n",
    "for instance_index in tqdm(range(deconvoled_trim_h1.shape[0])):\n",
    "    instance_data_mfcc = []\n",
    "    instance_data_zcr = []\n",
    "    instance_data_rms = []\n",
    "    for channel_index in range(deconvoled_trim_h1.shape[1]):\n",
    "        # Filtering\n",
    "        filtered_signal = signal.medfilt(deconvoled_trim_h1[instance_index, channel_index, :], kernel_size=3)\n",
    "        \n",
    "        # Normalization\n",
    "        normalized_signal = librosa.util.normalize(filtered_signal)\n",
    "\n",
    "        # Resampling\n",
    "        #resampled_signal = librosa.resample(normalized_signal, orig_sr=sampling_rate, target_sr=16000)\n",
    "        \n",
    "        # Feature extraction\n",
    "        # MFCC features\n",
    "        mfcc_features = librosa.feature.mfcc(y=deconvoled_trim_h1[instance_index, channel_index, :], sr=16000, n_mfcc=13)\n",
    "\n",
    "        # RMS features\n",
    "        rms_features = np.sqrt(np.mean(deconvoled_trim_h1[instance_index, channel_index, :]**2))\n",
    "        # rms_features = librosa.feature.rms(y=normalized_signal)\n",
    "\n",
    "        # Zero-Crossing Rate\n",
    "        zero_crossing_rate = librosa.feature.zero_crossing_rate(y=deconvoled_trim_h1[instance_index, channel_index, :])\n",
    "        \n",
    "        instance_data_mfcc.append(mfcc_features)\n",
    "        instance_data_zcr.append(zero_crossing_rate)\n",
    "        instance_data_rms.append(rms_features)\n",
    "    \n",
    "    preprocessed_data_mfcc.append(instance_data_mfcc)\n",
    "    preprocessed_data_rms.append(instance_data_rms)\n",
    "    preprocessed_data_zcr.append(instance_data_zcr)\n",
    "\n",
    "preprocessed_data_mfcc_h1 = np.array(preprocessed_data_mfcc)\n",
    "preprocessed_data_rms_h1 = np.array(preprocessed_data_rms)\n",
    "preprocessed_data_zcr_h1 = np.array(preprocessed_data_zcr)\n"
   ]
  },
  {
   "cell_type": "markdown",
   "metadata": {},
   "source": [
    "## Preprocess Data - Human 2"
   ]
  },
  {
   "cell_type": "code",
   "execution_count": 9,
   "metadata": {},
   "outputs": [
    {
     "name": "stderr",
     "output_type": "stream",
     "text": [
      "100%|██████████| 104/104 [01:13<00:00,  1.41it/s]\n"
     ]
    }
   ],
   "source": [
    "sampling_rate = 44100\n",
    "preprocessed_data_mfcc = []\n",
    "preprocessed_data_rms = []\n",
    "preprocessed_data_zcr = []\n",
    "\n",
    "# Wrap the outer loop with tqdm for progress visualization\n",
    "for instance_index in tqdm(range(deconvoled_trim_h2.shape[0])):\n",
    "    instance_data_mfcc = []\n",
    "    instance_data_zcr = []\n",
    "    instance_data_rms = []\n",
    "    for channel_index in range(deconvoled_trim_h2.shape[1]):\n",
    "        # Filtering\n",
    "        filtered_signal = signal.medfilt(deconvoled_trim_h2[instance_index, channel_index, :], kernel_size=3)\n",
    "        \n",
    "        # Normalization\n",
    "        normalized_signal = librosa.util.normalize(filtered_signal)\n",
    "\n",
    "        # Resampling\n",
    "        #resampled_signal = librosa.resample(normalized_signal, orig_sr=sampling_rate, target_sr=16000)\n",
    "        \n",
    "        # Feature extraction\n",
    "        # MFCC features\n",
    "        mfcc_features = librosa.feature.mfcc(y=deconvoled_trim_h2[instance_index, channel_index, :], sr=16000, n_mfcc=13)\n",
    "\n",
    "        # RMS features\n",
    "        rms_features = np.sqrt(np.mean(deconvoled_trim_h2[instance_index, channel_index, :]**2))\n",
    "        # rms_features = librosa.feature.rms(y=normalized_signal)\n",
    "\n",
    "        # Zero-Crossing Rate\n",
    "        zero_crossing_rate = librosa.feature.zero_crossing_rate(y=deconvoled_trim_h2[instance_index, channel_index, :])\n",
    "        \n",
    "        instance_data_mfcc.append(mfcc_features)\n",
    "        instance_data_zcr.append(zero_crossing_rate)\n",
    "        instance_data_rms.append(rms_features)\n",
    "    \n",
    "    preprocessed_data_mfcc.append(instance_data_mfcc)\n",
    "    preprocessed_data_rms.append(instance_data_rms)\n",
    "    preprocessed_data_zcr.append(instance_data_zcr)\n",
    "\n",
    "preprocessed_data_mfcc_h2 = np.array(preprocessed_data_mfcc)\n",
    "preprocessed_data_rms_h2 = np.array(preprocessed_data_rms)\n",
    "preprocessed_data_zcr_h2 = np.array(preprocessed_data_zcr)\n"
   ]
  },
  {
   "cell_type": "markdown",
   "metadata": {},
   "source": [
    "## Model"
   ]
  },
  {
   "cell_type": "code",
   "execution_count": 10,
   "metadata": {},
   "outputs": [],
   "source": [
    "class CustomDataset(Dataset):\n",
    "    def __init__(self, coordinates, preprocessed_data_mfcc=[], _type=\"rms\", preprocessed_data_rms=[], preprocessed_data_zcr=[]):\n",
    "        self.preprocessed_data_mfcc = preprocessed_data_mfcc\n",
    "        self.preprocessed_data_rms = preprocessed_data_rms\n",
    "        self.preprocessed_data_zcr = preprocessed_data_zcr\n",
    "        self.coordinates = coordinates\n",
    "        self.type = _type\n",
    "        \n",
    "    def __len__(self):\n",
    "        return len(self.coordinates)\n",
    "\n",
    "    def __getitem__(self, idx):\n",
    "        coordinates = torch.tensor(self.coordinates[idx], dtype=torch.float32)\n",
    "        if self.type == \"rms\":\n",
    "            rms = self.preprocessed_data_rms[idx]\n",
    "            rms = torch.tensor(rms, dtype=torch.float32)\n",
    "            return rms, coordinates\n",
    "        elif self.type == \"mfcc\":\n",
    "            mfcc = [torch.tensor(self.preprocessed_data_mfcc[idx, mic_index], dtype=torch.float32) for mic_index in range(4)]\n",
    "            return mfcc, coordinates\n",
    "        elif self.type == \"zcr\":\n",
    "            zcr = torch.tensor(self.preprocessed_data_zcr[idx], dtype=torch.float32) if self.preprocessed_data_zcr else None\n",
    "            return zcr, coordinates\n",
    "        else:\n",
    "            print(\"Error type\")\n",
    "            return None, None"
   ]
  },
  {
   "cell_type": "code",
   "execution_count": 11,
   "metadata": {},
   "outputs": [
    {
     "name": "stdout",
     "output_type": "stream",
     "text": [
      "Features List Length: 4\n",
      "Features Shape (Microphone 1): tensor(0.0005)\n",
      "Features Shape (Microphone 2): tensor(0.0005)\n",
      "Features Shape (Microphone 3): tensor(0.0007)\n",
      "Features Shape (Microphone 4): tensor(0.0004)\n",
      "Coordinates: tensor([-3198.5410,  -744.5101])\n"
     ]
    }
   ],
   "source": [
    "# Define the custom dataset\n",
    "dataset_h1 = CustomDataset(preprocessed_data_rms=preprocessed_data_rms_h1, coordinates=centroids_h1)\n",
    "dataset_h2 = CustomDataset(preprocessed_data_rms=preprocessed_data_rms_h2, coordinates=centroids_h2)\n",
    "\n",
    "# Access a sample from the dataset\n",
    "features_list, coordinates = dataset_h1[1]\n",
    "print(\"Features List Length:\", len(features_list))\n",
    "print(\"Features Shape (Microphone 1):\", features_list[0])\n",
    "print(\"Features Shape (Microphone 2):\", features_list[1])\n",
    "print(\"Features Shape (Microphone 3):\", features_list[2])\n",
    "print(\"Features Shape (Microphone 4):\", features_list[3])\n",
    "print(\"Coordinates:\", coordinates)"
   ]
  },
  {
   "cell_type": "markdown",
   "metadata": {},
   "source": [
    "## KNN RMS"
   ]
  },
  {
   "cell_type": "code",
   "execution_count": 12,
   "metadata": {},
   "outputs": [],
   "source": [
    "batch_size = 64\n",
    "train_loader = DataLoader(dataset=dataset_h1, batch_size=batch_size, shuffle=True)"
   ]
  },
  {
   "cell_type": "code",
   "execution_count": 13,
   "metadata": {},
   "outputs": [],
   "source": [
    "def euclidean_distance(pred_coords, true_coords):\n",
    "    if not isinstance(pred_coords, np.ndarray):\n",
    "        pred_coords = pred_coords.numpy()\n",
    "    if not isinstance(true_coords, np.ndarray):\n",
    "        pred_coords = true_coords.numpy()\n",
    "    return np.sqrt(np.sum((pred_coords - true_coords)**2))\n",
    "\n",
    "\n",
    "def custom_scoring(estimator, X, y):\n",
    "    # Predict coordinates using the estimator\n",
    "    pred_coords = estimator.predict(X)\n",
    "\n",
    "    # Calculate mean squared error using your euclidean_distance function\n",
    "    ed = np.mean([euclidean_distance(p, t) for p, t in zip(pred_coords, y)])\n",
    "\n",
    "    # Return negative MSE for minimization during grid search\n",
    "    return -ed"
   ]
  },
  {
   "cell_type": "code",
   "execution_count": 14,
   "metadata": {},
   "outputs": [
    {
     "name": "stdout",
     "output_type": "stream",
     "text": [
      "GridSearchCV Best Parameters: 5\n",
      "GridSearchCV Best Scoring: 1414.7135232311489\n"
     ]
    }
   ],
   "source": [
    "# Define the parameter grid for GridSearchCV (adjust k values as needed)\n",
    "param_grid = {'n_neighbors': np.arange(1, 40)}\n",
    "\n",
    "# Create a GridSearchCV object\n",
    "grid_search = GridSearchCV(KNeighborsRegressor(), param_grid, cv=5, scoring=custom_scoring)\n",
    "#grid_search = GridSearchCV(KNeighborsRegressor(), param_grid, cv=5, scoring=\"neg_mean_absolute_error\")\n",
    "\n",
    "# Train the model with GridSearchCV\n",
    "grid_search.fit(dataset_h1.preprocessed_data_rms, dataset_h1.coordinates)\n",
    "\n",
    "# Print the best parameters and MSE\n",
    "print(\"GridSearchCV Best Parameters:\", grid_search.best_params_['n_neighbors'])\n",
    "print(\"GridSearchCV Best Scoring:\", -grid_search.best_score_)  # Negate for readability"
   ]
  },
  {
   "cell_type": "code",
   "execution_count": 15,
   "metadata": {},
   "outputs": [
    {
     "name": "stdout",
     "output_type": "stream",
     "text": [
      "Mean Squared Error: 1086286.9795039732\n",
      "Mean Absolute Error: 785.8125857797194\n",
      "Localization Error: 1230.26 (811.81)\n",
      "Score:  0.14771953741184252\n"
     ]
    }
   ],
   "source": [
    "knn_model = KNeighborsRegressor(n_neighbors=grid_search.best_params_['n_neighbors']) #\n",
    "\n",
    "# Train the model\n",
    "knn_model.fit(dataset_h1.preprocessed_data_rms, dataset_h1.coordinates)\n",
    "\n",
    "predicted_coords = knn_model.predict(dataset_h2.preprocessed_data_rms)\n",
    "\n",
    "mse = mean_squared_error(centroids_h2, predicted_coords)\n",
    "print(\"Mean Squared Error:\", mse)\n",
    "\n",
    "mae = mean_absolute_error(centroids_h2, predicted_coords)\n",
    "print(\"Mean Absolute Error:\", mae)\n",
    "\n",
    "# Calculate localization errors for each prediction\n",
    "errors = []\n",
    "for pred_coords, true_coords in zip(predicted_coords, dataset_h2.coordinates):\n",
    "    error = euclidean_distance(pred_coords, true_coords)\n",
    "    errors.append(error)\n",
    "\n",
    "errors = np.array(errors)\n",
    "mean_error = np.mean(errors)\n",
    "stdev_error = np.std(errors)\n",
    "\n",
    "print(\"Localization Error: {:.2f} ({:.2f})\".format(mean_error, stdev_error))\n",
    "print(\"Score: \", knn_model.score(dataset_h2.preprocessed_data_rms, dataset_h2.coordinates))"
   ]
  },
  {
   "cell_type": "code",
   "execution_count": null,
   "metadata": {},
   "outputs": [],
   "source": []
  }
 ],
 "metadata": {
  "kernelspec": {
   "display_name": "Python 3 (ipykernel)",
   "language": "python",
   "name": "python3"
  },
  "language_info": {
   "codemirror_mode": {
    "name": "ipython",
    "version": 3
   },
   "file_extension": ".py",
   "mimetype": "text/x-python",
   "name": "python",
   "nbconvert_exporter": "python",
   "pygments_lexer": "ipython3",
   "version": "3.11.6"
  }
 },
 "nbformat": 4,
 "nbformat_minor": 4
}
